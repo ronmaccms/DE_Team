{
 "cells": [
  {
   "cell_type": "code",
   "execution_count": 15,
   "metadata": {},
   "outputs": [],
   "source": [
    "import pandas as pd\n",
    "\n",
    "# Replace 'file_path.txt' with the actual path to your text file\n",
    "df = pd.read_csv(r'C:\\Users\\paude\\Documents\\00. Backup 2023\\EXTERIOR\\MASTER\\MA IAAC\\03. Cursada\\01. Modulo 03\\S01 DE\\Class Project\\DE_Team\\unique_cities filled.txt', sep=':', header=None, names=['City', 'DELETE', 'Net_migration','First_language', 'Second_language', 'external_migration_destination'])\n"
   ]
  },
  {
   "cell_type": "code",
   "execution_count": 16,
   "metadata": {},
   "outputs": [
    {
     "data": {
      "text/html": [
       "<div>\n",
       "<style scoped>\n",
       "    .dataframe tbody tr th:only-of-type {\n",
       "        vertical-align: middle;\n",
       "    }\n",
       "\n",
       "    .dataframe tbody tr th {\n",
       "        vertical-align: top;\n",
       "    }\n",
       "\n",
       "    .dataframe thead th {\n",
       "        text-align: right;\n",
       "    }\n",
       "</style>\n",
       "<table border=\"1\" class=\"dataframe\">\n",
       "  <thead>\n",
       "    <tr style=\"text-align: right;\">\n",
       "      <th></th>\n",
       "      <th>City</th>\n",
       "      <th>DELETE</th>\n",
       "      <th>Net_migration</th>\n",
       "      <th>First_language</th>\n",
       "      <th>Second_language</th>\n",
       "      <th>external_migration_destination</th>\n",
       "    </tr>\n",
       "  </thead>\n",
       "  <tbody>\n",
       "    <tr>\n",
       "      <th>0</th>\n",
       "      <td>Tirana</td>\n",
       "      <td>1.38 / Albanian / Greek / Italy</td>\n",
       "      <td>NaN</td>\n",
       "      <td>NaN</td>\n",
       "      <td>NaN</td>\n",
       "      <td>NaN</td>\n",
       "    </tr>\n",
       "    <tr>\n",
       "      <th>1</th>\n",
       "      <td>Durres</td>\n",
       "      <td>0.98 / Albanian / Greek / Italy</td>\n",
       "      <td>NaN</td>\n",
       "      <td>NaN</td>\n",
       "      <td>NaN</td>\n",
       "      <td>NaN</td>\n",
       "    </tr>\n",
       "    <tr>\n",
       "      <th>2</th>\n",
       "      <td>Vlore</td>\n",
       "      <td>0.51 / Albanian / Greek / Italy</td>\n",
       "      <td>NaN</td>\n",
       "      <td>NaN</td>\n",
       "      <td>NaN</td>\n",
       "      <td>NaN</td>\n",
       "    </tr>\n",
       "    <tr>\n",
       "      <th>3</th>\n",
       "      <td>Kamez</td>\n",
       "      <td>0.62 / Albanian / Greek / Italy</td>\n",
       "      <td>NaN</td>\n",
       "      <td>NaN</td>\n",
       "      <td>NaN</td>\n",
       "      <td>NaN</td>\n",
       "    </tr>\n",
       "    <tr>\n",
       "      <th>4</th>\n",
       "      <td>Fier</td>\n",
       "      <td>0.65 / Albanian / Greek / Italy</td>\n",
       "      <td>NaN</td>\n",
       "      <td>NaN</td>\n",
       "      <td>NaN</td>\n",
       "      <td>NaN</td>\n",
       "    </tr>\n",
       "  </tbody>\n",
       "</table>\n",
       "</div>"
      ],
      "text/plain": [
       "     City                            DELETE Net_migration  First_language  \\\n",
       "0  Tirana   1.38 / Albanian / Greek / Italy           NaN             NaN   \n",
       "1  Durres   0.98 / Albanian / Greek / Italy           NaN             NaN   \n",
       "2   Vlore   0.51 / Albanian / Greek / Italy           NaN             NaN   \n",
       "3   Kamez   0.62 / Albanian / Greek / Italy           NaN             NaN   \n",
       "4    Fier   0.65 / Albanian / Greek / Italy           NaN             NaN   \n",
       "\n",
       "   Second_language  external_migration_destination  \n",
       "0              NaN                             NaN  \n",
       "1              NaN                             NaN  \n",
       "2              NaN                             NaN  \n",
       "3              NaN                             NaN  \n",
       "4              NaN                             NaN  "
      ]
     },
     "execution_count": 16,
     "metadata": {},
     "output_type": "execute_result"
    }
   ],
   "source": [
    "\n",
    "df.head()"
   ]
  },
  {
   "cell_type": "code",
   "execution_count": 17,
   "metadata": {},
   "outputs": [
    {
     "data": {
      "text/html": [
       "<div>\n",
       "<style scoped>\n",
       "    .dataframe tbody tr th:only-of-type {\n",
       "        vertical-align: middle;\n",
       "    }\n",
       "\n",
       "    .dataframe tbody tr th {\n",
       "        vertical-align: top;\n",
       "    }\n",
       "\n",
       "    .dataframe thead th {\n",
       "        text-align: right;\n",
       "    }\n",
       "</style>\n",
       "<table border=\"1\" class=\"dataframe\">\n",
       "  <thead>\n",
       "    <tr style=\"text-align: right;\">\n",
       "      <th></th>\n",
       "      <th>City</th>\n",
       "      <th>Net_migration</th>\n",
       "      <th>First_language</th>\n",
       "      <th>Second_language</th>\n",
       "      <th>external_migration_destination</th>\n",
       "    </tr>\n",
       "  </thead>\n",
       "  <tbody>\n",
       "    <tr>\n",
       "      <th>0</th>\n",
       "      <td>Tirana</td>\n",
       "      <td>1.38</td>\n",
       "      <td>Albanian</td>\n",
       "      <td>Greek</td>\n",
       "      <td>Italy</td>\n",
       "    </tr>\n",
       "    <tr>\n",
       "      <th>1</th>\n",
       "      <td>Durres</td>\n",
       "      <td>0.98</td>\n",
       "      <td>Albanian</td>\n",
       "      <td>Greek</td>\n",
       "      <td>Italy</td>\n",
       "    </tr>\n",
       "    <tr>\n",
       "      <th>2</th>\n",
       "      <td>Vlore</td>\n",
       "      <td>0.51</td>\n",
       "      <td>Albanian</td>\n",
       "      <td>Greek</td>\n",
       "      <td>Italy</td>\n",
       "    </tr>\n",
       "    <tr>\n",
       "      <th>3</th>\n",
       "      <td>Kamez</td>\n",
       "      <td>0.62</td>\n",
       "      <td>Albanian</td>\n",
       "      <td>Greek</td>\n",
       "      <td>Italy</td>\n",
       "    </tr>\n",
       "    <tr>\n",
       "      <th>4</th>\n",
       "      <td>Fier</td>\n",
       "      <td>0.65</td>\n",
       "      <td>Albanian</td>\n",
       "      <td>Greek</td>\n",
       "      <td>Italy</td>\n",
       "    </tr>\n",
       "  </tbody>\n",
       "</table>\n",
       "</div>"
      ],
      "text/plain": [
       "     City Net_migration First_language Second_language  \\\n",
       "0  Tirana         1.38       Albanian           Greek    \n",
       "1  Durres         0.98       Albanian           Greek    \n",
       "2   Vlore         0.51       Albanian           Greek    \n",
       "3   Kamez         0.62       Albanian           Greek    \n",
       "4    Fier         0.65       Albanian           Greek    \n",
       "\n",
       "  external_migration_destination  \n",
       "0                          Italy  \n",
       "1                          Italy  \n",
       "2                          Italy  \n",
       "3                          Italy  \n",
       "4                          Italy  "
      ]
     },
     "execution_count": 17,
     "metadata": {},
     "output_type": "execute_result"
    }
   ],
   "source": [
    "# Split the 'DELETE' column into multiple columns\n",
    "df[['Net_migration', 'First_language', 'Second_language', 'external_migration_destination']] = df['DELETE'].str.split('/', expand=True)\n",
    "\n",
    "# Drop the 'DELETE' column\n",
    "df.drop(columns=['DELETE'], inplace=True)\n",
    "\n",
    "# Display the DataFrame\n",
    "df.head()"
   ]
  },
  {
   "cell_type": "code",
   "execution_count": 18,
   "metadata": {},
   "outputs": [
    {
     "name": "stdout",
     "output_type": "stream",
     "text": [
      "DataFrame has been successfully exported to CSV.\n"
     ]
    }
   ],
   "source": [
    "# Export the DataFrame to a CSV file\n",
    "df.to_csv(r'C:\\Users\\paude\\Documents\\00. Backup 2023\\EXTERIOR\\MASTER\\MA IAAC\\03. Cursada\\01. Modulo 03\\S01 DE\\Class Project\\DE_Team\\merged_csvs\\cities_missing_data.csv', index=False)\n",
    "\n",
    "# Print message\n",
    "print(\"DataFrame has been successfully exported to CSV.\")"
   ]
  }
 ],
 "metadata": {
  "kernelspec": {
   "display_name": "macad",
   "language": "python",
   "name": "python3"
  },
  "language_info": {
   "codemirror_mode": {
    "name": "ipython",
    "version": 3
   },
   "file_extension": ".py",
   "mimetype": "text/x-python",
   "name": "python",
   "nbconvert_exporter": "python",
   "pygments_lexer": "ipython3",
   "version": "3.9.15"
  }
 },
 "nbformat": 4,
 "nbformat_minor": 2
}
