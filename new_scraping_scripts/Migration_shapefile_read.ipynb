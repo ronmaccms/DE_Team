{
 "cells": [
  {
   "cell_type": "code",
   "execution_count": 1,
   "metadata": {},
   "outputs": [],
   "source": [
    "import pandas as pd\n",
    "import geopandas as gpd"
   ]
  },
  {
   "cell_type": "code",
   "execution_count": 2,
   "metadata": {},
   "outputs": [],
   "source": [
    "# File paths\n",
    "csv_file_path = r\"C:\\Users\\paude\\Downloads\\SexDisaggregated_Migration\\SexDisaggregated_Migration\\MigrationEstimates\\MigrEst_international_v7.csv\"  # Update with your CSV file path\n",
    "shapefile_path = r\"C:\\Users\\paude\\Downloads\\SexDisaggregated_Migration\\SexDisaggregated_Migration\\SpatialData\\Flowlines_International.shp\"  # Update with your shapefile path\n"
   ]
  },
  {
   "cell_type": "code",
   "execution_count": 6,
   "metadata": {},
   "outputs": [],
   "source": [
    "\n",
    "# Read the CSV file\n",
    "df = pd.read_csv(csv_file_path)\n"
   ]
  },
  {
   "cell_type": "code",
   "execution_count": 7,
   "metadata": {},
   "outputs": [
    {
     "name": "stdout",
     "output_type": "stream",
     "text": [
      "Missing values in CSV key columns:\n",
      "ISOI     0\n",
      "NODEI    0\n",
      "ISOJ     0\n",
      "NODEJ    0\n",
      "dtype: int64\n"
     ]
    }
   ],
   "source": [
    "# Check for missing values in the key columns\n",
    "print(\"Missing values in CSV key columns:\")\n",
    "print(df[['ISOI', 'NODEI', 'ISOJ', 'NODEJ']].isnull().sum())"
   ]
  },
  {
   "cell_type": "code",
   "execution_count": 10,
   "metadata": {},
   "outputs": [
    {
     "name": "stdout",
     "output_type": "stream",
     "text": [
      "Error reading shapefile with fiona: Invalid offset for entity 17339\n"
     ]
    }
   ],
   "source": [
    "import fiona\n",
    "\n",
    "# Try using fiona to open the shapefile\n",
    "try:\n",
    "    with fiona.open(shapefile_path) as src:\n",
    "        for feature in src:\n",
    "            print(feature)\n",
    "            break  # Print only the first feature for inspection\n",
    "except Exception as e:\n",
    "    print(f\"Error reading shapefile with fiona: {e}\")"
   ]
  },
  {
   "cell_type": "code",
   "execution_count": 4,
   "metadata": {},
   "outputs": [],
   "source": [
    "\n",
    "\n",
    "\n",
    "\n",
    "\n",
    "# Inspect unique values to ensure they match\n",
    "print(\"\\nUnique values in CSV 'ISOI' column:\")\n",
    "print(df['ISOI'].unique())\n",
    "\n",
    "print(\"\\nUnique values in shapefile 'ISO' column:\")\n",
    "print(gdf['ISO'].unique())\n",
    "\n",
    "# If column names in shapefile are different, adjust accordingly\n",
    "# Display the structure of the shapefile to understand its contents\n",
    "print(\"\\nShapefile structure:\")\n",
    "print(gdf.head())\n",
    "\n",
    "# Merge the CSV data with the shapefile based on the origin node\n",
    "merged_gdf_origin = gdf.merge(df, left_on=['ISO', 'NODE'], right_on=['ISOI', 'NODEI'], how='inner')\n",
    "\n",
    "# Check if the merge was successful\n",
    "print(\"\\nMerged data (origin nodes) - first few rows:\")\n",
    "print(merged_gdf_origin.head())\n",
    "\n",
    "print(\"\\nMerged data (origin nodes) - shape:\")\n",
    "print(merged_gdf_origin.shape)\n",
    "\n",
    "# Merge the CSV data with the shapefile based on the destination node\n",
    "merged_gdf_destination = gdf.merge(df, left_on=['ISO', 'NODE'], right_on=['ISOJ', 'NODEJ'], how='inner')\n",
    "\n",
    "# Check if the merge was successful\n",
    "print(\"\\nMerged data (destination nodes) - first few rows:\")\n",
    "print(merged_gdf_destination.head())\n",
    "\n",
    "print(\"\\nMerged data (destination nodes) - shape:\")\n",
    "print(merged_gdf_destination.shape)\n",
    "\n",
    "# Save the merged GeoDataFrames to new shapefiles (optional)\n",
    "merged_gdf_origin.to_file('merged_origin.shp')\n",
    "merged_gdf_destination.to_file('merged_destination.shp')\n",
    "\n",
    "print(\"Merged shapefiles saved as 'merged_origin.shp' and 'merged_destination.shp'\")"
   ]
  }
 ],
 "metadata": {
  "kernelspec": {
   "display_name": "macad",
   "language": "python",
   "name": "python3"
  },
  "language_info": {
   "codemirror_mode": {
    "name": "ipython",
    "version": 3
   },
   "file_extension": ".py",
   "mimetype": "text/x-python",
   "name": "python",
   "nbconvert_exporter": "python",
   "pygments_lexer": "ipython3",
   "version": "3.9.15"
  }
 },
 "nbformat": 4,
 "nbformat_minor": 2
}
